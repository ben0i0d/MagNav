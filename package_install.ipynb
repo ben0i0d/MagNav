{
 "cells": [
  {
   "cell_type": "code",
   "execution_count": null,
   "metadata": {
    "vscode": {
     "languageId": "plaintext"
    }
   },
   "outputs": [],
   "source": [
    "using Pkg\n",
    "Pkg.add(\"HDF5\")\n",
    "Pkg.add(\"Plots\")\n",
    "Pkg.add(\"BenchmarkTools\")\n",
    "Pkg.add(\"DSP\")\n",
    "Pkg.add(\"FFTW\")\n",
    "Pkg.add(\"ForwardDiff\")\n",
    "Pkg.add(\"Interpolations\")\n",
    "Pkg.add(\"StaticArrays\")\n",
    "Pkg.add(\"Statistics\")"
   ]
  },
  {
   "cell_type": "code",
   "execution_count": null,
   "metadata": {
    "vscode": {
     "languageId": "plaintext"
    }
   },
   "outputs": [],
   "source": [
    "using BenchmarkTools, DSP, FFTW, ForwardDiff, HDF5\n",
    "using Interpolations, LinearAlgebra, Plots, StaticArrays, Statistics"
   ]
  }
 ],
 "metadata": {
  "language_info": {
   "name": "python"
  }
 },
 "nbformat": 4,
 "nbformat_minor": 2
}
